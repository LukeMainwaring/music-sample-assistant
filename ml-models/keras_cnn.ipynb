{
 "cells": [
  {
   "cell_type": "code",
   "execution_count": null,
   "id": "emotional-bloom",
   "metadata": {},
   "outputs": [],
   "source": [
    "import numpy as np\n",
    "import sklearn\n",
    "import librosa\n",
    "import tensorflow as tf\n",
    "from tensorflow import keras\n",
    "import kapre\n",
    "from kapre.composed import get_melspectrogram_layer\n",
    "import os"
   ]
  },
  {
   "cell_type": "markdown",
   "id": "another-dallas",
   "metadata": {},
   "source": [
    "### Load training data"
   ]
  },
  {
   "cell_type": "code",
   "execution_count": null,
   "id": "lined-communist",
   "metadata": {},
   "outputs": [],
   "source": [
    "sample_rate = 44100\n",
    "mono = True"
   ]
  },
  {
   "cell_type": "code",
   "execution_count": null,
   "id": "informed-variation",
   "metadata": {},
   "outputs": [],
   "source": [
    "POSITIVE_DIR = 'matched_samples_positive/'\n",
    "NEGATIVE_DIR = 'matched_samples_negative/'\n",
    "\n",
    "matched_samples_positive = [POSITIVE_DIR + name for name in os.listdir(POSITIVE_DIR)]\n",
    "matched_samples_negative = [NEGATIVE_DIR + name for name in os.listdir(NEGATIVE_DIR)]"
   ]
  },
  {
   "cell_type": "code",
   "execution_count": null,
   "id": "aggressive-rwanda",
   "metadata": {},
   "outputs": [],
   "source": [
    "def load_samples():\n",
    "    batch_size = len(matched_samples_positive) + len(matched_samples_negative)\n",
    "    X = np.empty((batch_size, sample_rate, 1), dtype=np.float32)\n",
    "    \n",
    "    for i, sample_path in enumerate(matched_samples_positive + matched_samples_negative):\n",
    "        sample_wav, sample_rate = librosa.load(sample_path, sr=sample_rate, mono=mono)\n",
    "        X[i,] = sample_wav.reshape(-1,1)\n",
    "    \n",
    "    return X"
   ]
  },
  {
   "cell_type": "code",
   "execution_count": null,
   "id": "presidential-transportation",
   "metadata": {},
   "outputs": [],
   "source": [
    "def load_sample_labels():\n",
    "    positive_labels = np.ones(len(matched_samples_positive))\n",
    "    negative_labels = np.zeros(len(matched_samples_negative))\n",
    "    return np.concatenate((positive_labels, negative_labels), axis=None)"
   ]
  },
  {
   "cell_type": "code",
   "execution_count": null,
   "id": "referenced-subject",
   "metadata": {},
   "outputs": [],
   "source": [
    "X, y = load_samples(), load_sample_labels()"
   ]
  },
  {
   "cell_type": "code",
   "execution_count": null,
   "id": "gorgeous-frost",
   "metadata": {},
   "outputs": [],
   "source": [
    "print('Sample feature shape: ')\n",
    "print('Sample labels shape: ', y.shape)"
   ]
  },
  {
   "cell_type": "code",
   "execution_count": null,
   "id": "supreme-novel",
   "metadata": {},
   "outputs": [],
   "source": [
    "# TODO: train_test_split\n",
    "# from sklearn.model_selection import train_test_split\n",
    "# X_train, X_valid, y_train, y_valid = train_test_split(X, y)"
   ]
  },
  {
   "cell_type": "markdown",
   "id": "effective-estimate",
   "metadata": {},
   "source": [
    "### Simple CNN"
   ]
  },
  {
   "cell_type": "code",
   "execution_count": null,
   "id": "honey-amendment",
   "metadata": {},
   "outputs": [],
   "source": [
    "input_shape = (sample_rate, 1) # 1 channel (mono)"
   ]
  },
  {
   "cell_type": "code",
   "execution_count": null,
   "id": "occupied-terrain",
   "metadata": {},
   "outputs": [],
   "source": [
    "spectrogram_layer = get_melspectrogram_layer(input_shape=input_shape,\n",
    "                             pad_end=True,\n",
    "                             win_length=400,\n",
    "                             hop_length=160,\n",
    "                             sample_rate=sample_rate,\n",
    "                             return_decibel=True,\n",
    "                             input_data_format='channels_last',\n",
    "                             output_data_format='channels_last')"
   ]
  },
  {
   "cell_type": "code",
   "execution_count": null,
   "id": "confirmed-pharmaceutical",
   "metadata": {},
   "outputs": [],
   "source": [
    "model = keras.models.Sequential([\n",
    "    spectrogram_layer,\n",
    "    keras.layers.Conv2D(64, 7, activation=\"relu\", padding=\"SAME\"),\n",
    "    keras.layers.MaxPooling2D(2),\n",
    "    keras.layers.Conv2D(128, 3, activation=\"relu\", padding=\"SAME\"),\n",
    "    keras.layers.Conv2D(128, 3, activation=\"relu\", padding=\"SAME\"),\n",
    "    keras.layers.MaxPooling2D(2),\n",
    "    keras.layers.Conv2D(256, 3, activation=\"relu\", padding=\"SAME\"),\n",
    "    keras.layers.Conv2D(256, 3, activation=\"relu\", padding=\"SAME\"),\n",
    "    keras.layers.MaxPooling2D(2),\n",
    "    keras.layers.Flatten(),\n",
    "    keras.layers.Dense(128, activation=\"relu\"),\n",
    "    keras.layers.Dropout(0.5),\n",
    "    keras.layers.Dense(64, activation=\"relu\"),\n",
    "    keras.layers.Dropout(0.5),\n",
    "    keras.layers.Dense(1, activation=\"sigmoid\") # binary classification\n",
    "])"
   ]
  },
  {
   "cell_type": "code",
   "execution_count": null,
   "id": "convertible-graduate",
   "metadata": {},
   "outputs": [],
   "source": [
    "# Compile the model\n",
    "model.compile('adam', 'categorical_crossentropy')"
   ]
  },
  {
   "cell_type": "code",
   "execution_count": null,
   "id": "higher-schema",
   "metadata": {},
   "outputs": [],
   "source": [
    "model.fit(X, y)"
   ]
  },
  {
   "cell_type": "markdown",
   "id": "excessive-latex",
   "metadata": {},
   "source": [
    "### Bring in pre-trained XCeption model"
   ]
  },
  {
   "cell_type": "code",
   "execution_count": null,
   "id": "north-above",
   "metadata": {},
   "outputs": [],
   "source": [
    "base_model = keras.applications.xception.Xception(weights=\"imagenet\",\n",
    "                                                 include_top=False)\n",
    "avg = keras.layers.GlobalAveragePooling2D()(base_model.output)\n",
    "class_output = keras.layers.Dense(n_classes, activation=\"softmax\")(avg)\n",
    "loc_output = keras.layers.Dense(4)(avg)\n",
    "model = keras.Model(inputs=base_model.input,\n",
    "                   outputs=[class_output, loc_output])\n",
    "model.compile(loss=[\"sparse_categorical_crossentropy\", \"mse\"],\n",
    "             loss_weights=[0.8, 0.2], optimizer=optimizer, metrics=[\"accuracy\"])"
   ]
  },
  {
   "cell_type": "code",
   "execution_count": null,
   "id": "voluntary-driving",
   "metadata": {},
   "outputs": [],
   "source": [
    "model.fit(x, y)"
   ]
  }
 ],
 "metadata": {
  "kernelspec": {
   "display_name": "Python 3",
   "language": "python",
   "name": "python3"
  },
  "language_info": {
   "codemirror_mode": {
    "name": "ipython",
    "version": 3
   },
   "file_extension": ".py",
   "mimetype": "text/x-python",
   "name": "python",
   "nbconvert_exporter": "python",
   "pygments_lexer": "ipython3",
   "version": "3.8.2"
  }
 },
 "nbformat": 4,
 "nbformat_minor": 5
}
