{
 "cells": [
  {
   "cell_type": "code",
   "execution_count": null,
   "id": "emotional-bloom",
   "metadata": {},
   "outputs": [],
   "source": [
    "import numpy as np\n",
    "import sklearn\n",
    "import librosa\n",
    "import tensorflow as tf\n",
    "from tensorflow import keras\n",
    "import kapre\n",
    "from kapre.composed import get_melspectrogram_layer\n",
    "import os"
   ]
  },
  {
   "cell_type": "markdown",
   "id": "another-dallas",
   "metadata": {},
   "source": [
    "### Load training data"
   ]
  },
  {
   "cell_type": "code",
   "execution_count": null,
   "id": "lined-communist",
   "metadata": {},
   "outputs": [],
   "source": [
    "sample_rate = 44100\n",
    "mono = True"
   ]
  },
  {
   "cell_type": "code",
   "execution_count": null,
   "id": "informed-variation",
   "metadata": {},
   "outputs": [],
   "source": [
    "POSITIVE_DIR = 'matched_samples_positive/'\n",
    "NEGATIVE_DIR = 'matched_samples_negative/'\n",
    "\n",
    "matched_samples_positive = [POSITIVE_DIR + name for name in os.listdir(POSITIVE_DIR)]\n",
    "matched_samples_negative = [NEGATIVE_DIR + name for name in os.listdir(NEGATIVE_DIR)]\n",
    "all_samples = matched_samples_positive + matched_samples_negative"
   ]
  },
  {
   "cell_type": "code",
   "execution_count": null,
   "id": "sitting-forest",
   "metadata": {},
   "outputs": [],
   "source": [
    "def standardize_length():\n",
    "    # For now just shorten to lowest length\n",
    "    sample_lengths = [len(librosa.load(sample_path)[0]) for sample_path in all_samples]\n",
    "    return min(sample_lengths)"
   ]
  },
  {
   "cell_type": "code",
   "execution_count": null,
   "id": "saving-cocktail",
   "metadata": {},
   "outputs": [],
   "source": [
    "sample_length = standardize_length()"
   ]
  },
  {
   "cell_type": "code",
   "execution_count": null,
   "id": "aggressive-rwanda",
   "metadata": {},
   "outputs": [],
   "source": [
    "def load_samples():\n",
    "    batch_size = len(matched_samples_positive) + len(matched_samples_negative)\n",
    "    X = np.empty((batch_size, sample_length, 1), dtype=np.float32)\n",
    "    \n",
    "    for i, sample_path in enumerate(all_samples):\n",
    "        sample_wav, sr = librosa.load(sample_path, sr=sample_rate, mono=mono)\n",
    "        X[i,] = sample_wav[:sample_length].reshape(-1,1)\n",
    "    \n",
    "    return X"
   ]
  },
  {
   "cell_type": "code",
   "execution_count": null,
   "id": "presidential-transportation",
   "metadata": {},
   "outputs": [],
   "source": [
    "def load_sample_labels():\n",
    "    positive_labels = np.ones(len(matched_samples_positive))\n",
    "    negative_labels = np.zeros(len(matched_samples_negative))\n",
    "    return np.concatenate((positive_labels, negative_labels), axis=None)"
   ]
  },
  {
   "cell_type": "code",
   "execution_count": null,
   "id": "referenced-subject",
   "metadata": {},
   "outputs": [],
   "source": [
    "X, y = load_samples(), load_sample_labels()"
   ]
  },
  {
   "cell_type": "code",
   "execution_count": null,
   "id": "gorgeous-frost",
   "metadata": {},
   "outputs": [],
   "source": [
    "print('Sample feature shape: ', X.shape)\n",
    "print('Sample labels shape: ', y.shape)"
   ]
  },
  {
   "cell_type": "code",
   "execution_count": null,
   "id": "supreme-novel",
   "metadata": {},
   "outputs": [],
   "source": [
    "# TODO: train_test_split\n",
    "# from sklearn.model_selection import train_test_split\n",
    "# X_train, X_valid, y_train, y_valid = train_test_split(X, y)"
   ]
  },
  {
   "cell_type": "markdown",
   "id": "effective-estimate",
   "metadata": {},
   "source": [
    "### Simple CNN"
   ]
  },
  {
   "cell_type": "code",
   "execution_count": null,
   "id": "honey-amendment",
   "metadata": {},
   "outputs": [],
   "source": [
    "input_shape = X[0].shape"
   ]
  },
  {
   "cell_type": "code",
   "execution_count": null,
   "id": "occupied-terrain",
   "metadata": {},
   "outputs": [],
   "source": [
    "spectrogram_layer = get_melspectrogram_layer(input_shape=input_shape,\n",
    "                             pad_end=True,\n",
    "                             win_length=400,\n",
    "                             hop_length=160,\n",
    "                             sample_rate=sample_rate,\n",
    "                             return_decibel=True,\n",
    "                             input_data_format='channels_last',\n",
    "                             output_data_format='channels_last')"
   ]
  },
  {
   "cell_type": "code",
   "execution_count": null,
   "id": "confirmed-pharmaceutical",
   "metadata": {},
   "outputs": [],
   "source": [
    "model = keras.models.Sequential([\n",
    "    spectrogram_layer,\n",
    "    keras.layers.Conv2D(64, 7, activation=\"relu\", padding=\"SAME\"),\n",
    "    keras.layers.MaxPooling2D(2),\n",
    "    keras.layers.Conv2D(128, 3, activation=\"relu\", padding=\"SAME\"),\n",
    "    keras.layers.Conv2D(128, 3, activation=\"relu\", padding=\"SAME\"),\n",
    "    keras.layers.MaxPooling2D(2),\n",
    "    keras.layers.Conv2D(256, 3, activation=\"relu\", padding=\"SAME\"),\n",
    "    keras.layers.Conv2D(256, 3, activation=\"relu\", padding=\"SAME\"),\n",
    "    keras.layers.MaxPooling2D(2),\n",
    "    keras.layers.Flatten(),\n",
    "    keras.layers.Dense(128, activation=\"relu\"),\n",
    "    keras.layers.Dropout(0.5),\n",
    "    keras.layers.Dense(64, activation=\"relu\"),\n",
    "    keras.layers.Dropout(0.5),\n",
    "    keras.layers.Dense(1, activation=\"sigmoid\") # binary classification\n",
    "])"
   ]
  },
  {
   "cell_type": "code",
   "execution_count": null,
   "id": "charming-circle",
   "metadata": {},
   "outputs": [],
   "source": [
    "model.summary()"
   ]
  },
  {
   "cell_type": "code",
   "execution_count": null,
   "id": "convertible-graduate",
   "metadata": {},
   "outputs": [],
   "source": [
    "# Compile the model\n",
    "model.compile('adam', 'binary_crossentropy', metrics=[\"accuracy\"])"
   ]
  },
  {
   "cell_type": "code",
   "execution_count": null,
   "id": "higher-schema",
   "metadata": {},
   "outputs": [],
   "source": [
    "model.fit(X, y)"
   ]
  },
  {
   "cell_type": "code",
   "execution_count": null,
   "id": "abandoned-wedding",
   "metadata": {},
   "outputs": [],
   "source": [
    "model.save(\"basic_cnn_samples.h5\")"
   ]
  },
  {
   "cell_type": "markdown",
   "id": "excessive-latex",
   "metadata": {},
   "source": [
    "### Bring in pre-trained XCeption model"
   ]
  },
  {
   "cell_type": "code",
   "execution_count": null,
   "id": "excessive-shape",
   "metadata": {},
   "outputs": [],
   "source": [
    "IMAGE_DIR = 'sample_spec_images/'"
   ]
  },
  {
   "cell_type": "code",
   "execution_count": null,
   "id": "unsigned-sierra",
   "metadata": {},
   "outputs": [],
   "source": [
    "def create_img_filename(filename):\n",
    "    filename = filename[:-4]\n",
    "    filename = filename.split('/')[1]\n",
    "    return IMAGE_DIR + filename + '.png'"
   ]
  },
  {
   "cell_type": "code",
   "execution_count": null,
   "id": "inner-container",
   "metadata": {},
   "outputs": [],
   "source": [
    "from matplotlib import pyplot as plt\n",
    "from librosa import display\n",
    "\n",
    "def save_sample_spectrograms():\n",
    "    # Save as images for input to Xception model\n",
    "    for sample_path in all_samples:\n",
    "        sample, sr = librosa.load(sample_path)\n",
    "        sample = sample[:sample_length]\n",
    "        plt.axis('off')\n",
    "        spectrogram = librosa.feature.melspectrogram(y=sample, sr=sr)\n",
    "        librosa.display.specshow(librosa.power_to_db(spectrogram, ref=np.max))\n",
    "        filename = create_img_filename(sample_path)\n",
    "        plt.savefig(filename)"
   ]
  },
  {
   "cell_type": "code",
   "execution_count": null,
   "id": "piano-investing",
   "metadata": {},
   "outputs": [],
   "source": [
    "save_sample_spectrograms()"
   ]
  },
  {
   "cell_type": "code",
   "execution_count": null,
   "id": "average-porter",
   "metadata": {},
   "outputs": [],
   "source": [
    "sample_spectrograms = [IMAGE_DIR + name for name in os.listdir(IMAGE_DIR)]"
   ]
  },
  {
   "cell_type": "code",
   "execution_count": null,
   "id": "turkish-mississippi",
   "metadata": {},
   "outputs": [],
   "source": [
    "from PIL import Image\n",
    "\n",
    "def reformat_images():\n",
    "    # Reduce size for Xception\n",
    "    for image_path in sample_spectrograms:\n",
    "        try:\n",
    "            image = Image.open(image_path)\n",
    "            image.thumbnail((250,250))\n",
    "            image.save(image_path)    \n",
    "        except IOError:\n",
    "            print('not an image file: ', image_path)"
   ]
  },
  {
   "cell_type": "code",
   "execution_count": null,
   "id": "conscious-clinton",
   "metadata": {},
   "outputs": [],
   "source": [
    "reformat_images()"
   ]
  },
  {
   "cell_type": "code",
   "execution_count": null,
   "id": "induced-prediction",
   "metadata": {},
   "outputs": [],
   "source": [
    "first_image = Image.open(sample_spectrograms[0])\n",
    "width, height = first_image.size\n",
    "channels = 3 # RGB"
   ]
  },
  {
   "cell_type": "code",
   "execution_count": null,
   "id": "recreational-correction",
   "metadata": {},
   "outputs": [],
   "source": [
    "def load_sample_images():\n",
    "    batch_size = len(sample_spectrograms)\n",
    "    X = np.empty((batch_size, height, width, channels), dtype=np.float32)\n",
    "    \n",
    "    for i, image_path in enumerate(sample_spectrograms):\n",
    "        image_data = np.asarray(image)\n",
    "        image_data = image_data[:,:,:3] # discard alpha channel\n",
    "        X[i,] = image_data\n",
    "    \n",
    "    return X"
   ]
  },
  {
   "cell_type": "code",
   "execution_count": null,
   "id": "controversial-charm",
   "metadata": {},
   "outputs": [],
   "source": [
    "X, y = load_sample_images(), load_sample_labels()"
   ]
  },
  {
   "cell_type": "code",
   "execution_count": null,
   "id": "primary-junction",
   "metadata": {},
   "outputs": [],
   "source": [
    "print('Sample feature shape: ', X.shape)\n",
    "print('Sample labels shape: ', y.shape)"
   ]
  },
  {
   "cell_type": "code",
   "execution_count": null,
   "id": "north-above",
   "metadata": {},
   "outputs": [],
   "source": [
    "base_model = keras.applications.xception.Xception(weights=\"imagenet\",\n",
    "                                                 include_top=False,\n",
    "                                                 input_shape=(height, width, channels))\n",
    "avg = keras.layers.GlobalAveragePooling2D()(base_model.output)\n",
    "class_output = keras.layers.Dense(1, activation=\"sigmoid\")(avg)\n",
    "model = keras.Model(inputs=base_model.input, outputs=[class_output])\n",
    "model.compile(loss=[\"binary_crossentropy\", \"mse\"],\n",
    "             loss_weights=[0.8, 0.2], optimizer='adam', metrics=[\"accuracy\"])"
   ]
  },
  {
   "cell_type": "code",
   "execution_count": null,
   "id": "voluntary-driving",
   "metadata": {},
   "outputs": [],
   "source": [
    "model.fit(X, y)"
   ]
  },
  {
   "cell_type": "code",
   "execution_count": null,
   "id": "annoying-shareware",
   "metadata": {},
   "outputs": [],
   "source": [
    "model.save(\"xception_samples.h5\")"
   ]
  }
 ],
 "metadata": {
  "kernelspec": {
   "display_name": "Python 3",
   "language": "python",
   "name": "python3"
  },
  "language_info": {
   "codemirror_mode": {
    "name": "ipython",
    "version": 3
   },
   "file_extension": ".py",
   "mimetype": "text/x-python",
   "name": "python",
   "nbconvert_exporter": "python",
   "pygments_lexer": "ipython3",
   "version": "3.8.2"
  }
 },
 "nbformat": 4,
 "nbformat_minor": 5
}
