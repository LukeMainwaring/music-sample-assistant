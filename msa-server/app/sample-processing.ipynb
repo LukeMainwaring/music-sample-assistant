{
 "cells": [
  {
   "cell_type": "code",
   "execution_count": 1,
   "id": "piano-torture",
   "metadata": {},
   "outputs": [],
   "source": [
    "# Initialize\n",
    "import librosa\n",
    "import soundfile as sf\n",
    "import numpy as np"
   ]
  },
  {
   "cell_type": "code",
   "execution_count": 2,
   "id": "present-christmas",
   "metadata": {},
   "outputs": [],
   "source": [
    "# Basic example\n",
    "\n",
    "# 1. Get the file path to an included audio example\n",
    "disco_strings_file = 'test_samples/SC_DS_120_strings_stabs_swinging_upward_sting_Gmin.wav'\n",
    "kshmr_guitar_file = 'test_samples/KSHMR_Latin_GTR_Guitar_90_Am.wav'\n",
    "\n",
    "sample_rate = 44100 # TODO: determine best sample rate. 44.1 kHz looks most common\n",
    "\n",
    "# TODO: figure out how to get things like pitch_shift to work with stereo,\n",
    "# don't want to do all this processing in mono...\n",
    "mono = True\n",
    "\n",
    "# 2. Load the audio as a waveform `y`\n",
    "#    Store the sampling rate as `sr`\n",
    "current_sample, sample_rate = librosa.load(kshmr_guitar_file, sr=sample_rate, mono=mono)\n"
   ]
  },
  {
   "cell_type": "markdown",
   "id": "eleven-tracker",
   "metadata": {},
   "source": [
    "### Grab BPM of sample\n",
    "This process only applies to sample loops and not one-shots, since one-shots (typically) do not have a BPM. We are assuming the sample loop filename contains the BPM. The initial idea is to create a regex parser that just looks for any number between 50-200. \n",
    "\n",
    "This range is arbitrary, but it cannot be too low since many sample filenames contain a low number identifier. It cannot be too high since it could contain an instrument like 808. For example, in the sample, TL_Loops_Drums_Disco_Fill_03_108, we want to get the 108 BPM and ignore 03."
   ]
  },
  {
   "cell_type": "code",
   "execution_count": 3,
   "id": "operational-separate",
   "metadata": {},
   "outputs": [
    {
     "data": {
      "text/plain": [
       "108"
      ]
     },
     "execution_count": 3,
     "metadata": {},
     "output_type": "execute_result"
    }
   ],
   "source": [
    "from sample_parser import parse_sample_bpm\n",
    "\n",
    "# Basic example\n",
    "disco_fill_sample = 'TL_Loops_Drums_Disco_Fill_03_108.wav'\n",
    "sample_bpm = parse_sample_bpm(disco_fill_sample)\n",
    "sample_bpm"
   ]
  },
  {
   "cell_type": "code",
   "execution_count": 4,
   "id": "synthetic-pittsburgh",
   "metadata": {},
   "outputs": [],
   "source": [
    "'''\n",
    "List of problematic sample filenames for BPM:\n",
    "- FSW_song_starter_route69_c_minor_99.wav\n",
    "- FSW_loop_melody_synth_oldlead_route69_99_c_minor.wav\n",
    "- FSW_loop_bass_synth_ayayobass_route69_99_c_minor.wav\n",
    "- 125bpm_vocal_98_fx.wav\n",
    "- EVIGAN_drum_loop_80s_but_new_119.wav\n",
    "- TA_MK3_FILL_ONESHOT_80_S_125.wav\n",
    "- \n",
    "'''\n",
    "\n",
    "# Problematic examples\n",
    "song_starter_sample = 'EVIGAN_drum_loop_80s_but_new_119.wav'\n",
    "sample_bpm = parse_sample_bpm(song_starter_sample)\n",
    "sample_bpm"
   ]
  },
  {
   "cell_type": "markdown",
   "id": "dried-bunny",
   "metadata": {},
   "source": [
    "### Grab key of sample\n",
    "This process applies to both sample loops and one-shots. We are assuming the sample filename contains the key. Most drums, risers, and other FX samples do not have a key in the filename, so we only grab for those that have them included.\n",
    "\n",
    "The initial idea is to create a regex parser that looks for the key identifier. In Splice, it appears that all key identifiers are at least preceded by an underscore. This could be tricky, since I have seen a wide variety of formats. For example, E minor could look like any of these - Em, Emin, Eminor, E_m, E_min, E_minor, etc. Plus the variations having a sharp or flat in the name. This solution works for now but important to update if I find one more elegant and flexible.\n",
    "\n",
    "Maybe there could be some key detection approach in which filename parser is combined with audio processing, and if there's a mismatch, it's flagged to the user to decide the key"
   ]
  },
  {
   "cell_type": "code",
   "execution_count": 5,
   "id": "breathing-throw",
   "metadata": {},
   "outputs": [
    {
     "data": {
      "text/plain": [
       "<music21.key.Key of g minor>"
      ]
     },
     "execution_count": 5,
     "metadata": {},
     "output_type": "execute_result"
    }
   ],
   "source": [
    "# Basic example\n",
    "from sample_parser import parse_sample_key\n",
    "\n",
    "parse_sample_key(disco_strings_file)"
   ]
  },
  {
   "cell_type": "markdown",
   "id": "athletic-station",
   "metadata": {},
   "source": [
    "### Grab all files in Splice directory\n",
    "More description later. Mostly for testing"
   ]
  },
  {
   "cell_type": "code",
   "execution_count": 6,
   "id": "divided-designer",
   "metadata": {},
   "outputs": [],
   "source": [
    "SPLICE_SAMPLES_PATH = '/Users/lukemainwaring/Splice/sounds/packs'"
   ]
  },
  {
   "cell_type": "code",
   "execution_count": 7,
   "id": "accurate-panama",
   "metadata": {},
   "outputs": [],
   "source": [
    "import glob\n",
    "import os\n",
    "\n",
    "# Easier to read without list comprehension\n",
    "# splice_files = []\n",
    "# splice_sample_files = glob.glob(SPLICE_SAMPLES_PATH + '/**/*.wav', recursive=True)\n",
    "# for sample_file in splice_sample_files:\n",
    "#     full_file_split = sample_file.split('/')\n",
    "#     splice_files.append(full_file_split[-1])\n",
    "\n",
    "splice_files = [sample_file.split('/')[-1] for sample_file in glob.glob(SPLICE_SAMPLES_PATH + '/**/*.wav', recursive=True)]\n",
    "# splice_files # Uncomment to view all Splice filenames"
   ]
  },
  {
   "cell_type": "code",
   "execution_count": 8,
   "id": "neural-regression",
   "metadata": {},
   "outputs": [],
   "source": [
    "# Get full file paths for Splice samples for eventual audio processing\n",
    "splice_files_path = glob.glob(SPLICE_SAMPLES_PATH + '/**/*.wav', recursive=True)\n",
    "full_file_path_map = { sample : sample_path for sample, sample_path in zip(splice_files, splice_files_path)}"
   ]
  },
  {
   "cell_type": "markdown",
   "id": "outdoor-links",
   "metadata": {},
   "source": [
    "## Custom sample class\n",
    "Every sample will be stored as one of our custom Sample objects, with the following required attributes:\n",
    "- Name\n",
    "- Tempo\n",
    "- Key\n",
    "- One shot\n",
    "- Full path\n",
    "- Instrument (leaving this one out for now)"
   ]
  },
  {
   "cell_type": "code",
   "execution_count": 9,
   "id": "geographic-restaurant",
   "metadata": {},
   "outputs": [],
   "source": [
    "from sample_processor import Sample\n",
    "\n",
    "# Convert all Splice files to custom Sample object\n",
    "sample_objects = []\n",
    "for sample_file in splice_files:\n",
    "    full_path = full_file_path_map[sample_file]\n",
    "    new_sample = Sample(sample_file, full_path)\n",
    "    sample_objects.append(new_sample)"
   ]
  },
  {
   "cell_type": "code",
   "execution_count": 10,
   "id": "trained-intermediate",
   "metadata": {},
   "outputs": [
    {
     "data": {
      "text/plain": [
       "1894"
      ]
     },
     "execution_count": 10,
     "metadata": {},
     "output_type": "execute_result"
    }
   ],
   "source": [
    "len(sample_objects)"
   ]
  },
  {
   "cell_type": "code",
   "execution_count": 11,
   "id": "another-cyprus",
   "metadata": {},
   "outputs": [
    {
     "name": "stdout",
     "output_type": "stream",
     "text": [
      "Name: SPINNIN_melody_loop_intro_wubs_126_Cmaj.wav\n",
      "Tempo: 126\n",
      "Key: C major\n",
      "One Shot: False\n",
      "Full path: /Users/lukemainwaring/Splice/sounds/packs/Spinnin' Sounds Bass House Sample Pack/SPINNIN_BASS_HOUSE_sample_pack/SPINNIN_tonal/SPINNIN_melody_loops/SPINNIN_melody_loop_intro_wubs_126_Cmaj.wav\n"
     ]
    }
   ],
   "source": [
    "# Verify correct Sample object creation for loop sample\n",
    "test_sample = sample_objects[10]\n",
    "\n",
    "sample_output = (\n",
    "    f'Name: {test_sample.name}\\n'\n",
    "    f'Tempo: {test_sample.tempo}\\n'\n",
    "    f'Key: {test_sample.key}\\n'\n",
    "    f'One Shot: {test_sample.one_shot}\\n'\n",
    "    f'Full path: {test_sample.full_path}'\n",
    ")\n",
    "\n",
    "print(sample_output)"
   ]
  },
  {
   "cell_type": "code",
   "execution_count": 12,
   "id": "abroad-leone",
   "metadata": {},
   "outputs": [
    {
     "name": "stdout",
     "output_type": "stream",
     "text": [
      "Name: SPINNIN_vocal_one_shot_oooh.wav\n",
      "Tempo: None\n",
      "Key: None\n",
      "One Shot: True\n",
      "Full path: /Users/lukemainwaring/Splice/sounds/packs/Spinnin' Sounds Bass House Sample Pack/SPINNIN_BASS_HOUSE_sample_pack/SPINNIN_vocals/SPINNIN_vocal_one_shot_oooh.wav\n"
     ]
    }
   ],
   "source": [
    "# Verify correct Sample object creation for one shot sample\n",
    "test_sample_one_shot = sample_objects[20]\n",
    "\n",
    "sample_output = (\n",
    "    f'Name: {test_sample_one_shot.name}\\n'\n",
    "    f'Tempo: {test_sample_one_shot.tempo}\\n'\n",
    "    f'Key: {test_sample_one_shot.key}\\n'\n",
    "    f'One Shot: {test_sample_one_shot.one_shot}\\n'\n",
    "    f'Full path: {test_sample_one_shot.full_path}'\n",
    ")\n",
    "\n",
    "print(sample_output)"
   ]
  },
  {
   "cell_type": "code",
   "execution_count": 13,
   "id": "respected-kingston",
   "metadata": {},
   "outputs": [],
   "source": [
    "# # Uncomment to view or test all custom Sample objects on Splice files\n",
    "\n",
    "# # Verify correct Sample object creation for all Splice samples\n",
    "# for sample in sample_objects:\n",
    "#     sample_output = (\n",
    "#         f'Name: {sample.name}\\n'\n",
    "#         f'Tempo: {sample.tempo}\\n'\n",
    "#         f'Key: {sample.key}\\n'\n",
    "#         f'One Shot: {sample.one_shot}\\n'\n",
    "#         f'Full path: {sample.full_path}'\n",
    "#     )\n",
    "#     print(sample_output)\n",
    "#     print('--------------------------------------------------\\n')"
   ]
  },
  {
   "cell_type": "code",
   "execution_count": 14,
   "id": "occupational-birthday",
   "metadata": {},
   "outputs": [
    {
     "data": {
      "text/plain": [
       "'\\nName: MAT_ZO_snare_094.wav\\nTempo: 94\\nKey: None\\nOne Shot: False\\n--------------------------------\\n***ALL SONNY_D SAMPLES SHOW UP AS D MAJOR\\nName: SONNY_D_808_18_C.wav\\nTempo: None\\nKey: D major\\n'"
      ]
     },
     "execution_count": 14,
     "metadata": {},
     "output_type": "execute_result"
    }
   ],
   "source": [
    "# Problematic examples I could look into correcting\n",
    "'''\n",
    "Name: MAT_ZO_snare_094.wav\n",
    "Tempo: 94\n",
    "Key: None\n",
    "One Shot: False\n",
    "--------------------------------\n",
    "***ALL SONNY_D SAMPLES SHOW UP AS D MAJOR\n",
    "Name: SONNY_D_808_18_C.wav\n",
    "Tempo: None\n",
    "Key: D major\n",
    "'''"
   ]
  },
  {
   "cell_type": "markdown",
   "id": "creative-rotation",
   "metadata": {},
   "source": [
    "### Transpose samples to the relevant key\n",
    "The idea is to represent keys with the music21 library's key object. First, we get the range of keys that can be transposed without distorting the sample too much. I'm going with 2 for now, since quality sometimes sounds bad moving 3 semitones. For example, if a bass loop is already as low as it can get while still audible, we might not want to lower it 3 semitones. Maybe this range can be adjusted as part of the UX or in conjunction with audio processing. Then, for each sample, we grab its key, and if it falls in the valid range then we transpose to the original song key."
   ]
  },
  {
   "cell_type": "code",
   "execution_count": 15,
   "id": "norman-starter",
   "metadata": {},
   "outputs": [],
   "source": [
    "from sample_transform import get_valid_key_range, get_candidate_sample_loops\n",
    "from music21 import key\n",
    "\n",
    "original_key = key.Key('B')\n",
    "original_tempo = 120"
   ]
  },
  {
   "cell_type": "code",
   "execution_count": 16,
   "id": "identical-gambling",
   "metadata": {},
   "outputs": [
    {
     "data": {
      "text/plain": [
       "{<music21.key.Key of A major>: -2,\n",
       " <music21.key.Key of B- major>: -1,\n",
       " <music21.key.Key of B major>: 0,\n",
       " <music21.key.Key of C major>: 1,\n",
       " <music21.key.Key of D- major>: 2}"
      ]
     },
     "execution_count": 16,
     "metadata": {},
     "output_type": "execute_result"
    }
   ],
   "source": [
    "# Creates set of keys within +/- 2 semitones\n",
    "get_valid_key_range(original_key)"
   ]
  },
  {
   "cell_type": "code",
   "execution_count": 17,
   "id": "maritime-broadway",
   "metadata": {},
   "outputs": [
    {
     "data": {
      "text/plain": [
       "{<music21.key.Key of G major>: -4,\n",
       " <music21.key.Key of A- major>: -3,\n",
       " <music21.key.Key of A major>: -2,\n",
       " <music21.key.Key of B- major>: -1,\n",
       " <music21.key.Key of B major>: 0,\n",
       " <music21.key.Key of C major>: 1,\n",
       " <music21.key.Key of D- major>: 2,\n",
       " <music21.key.Key of D major>: 3,\n",
       " <music21.key.Key of E- major>: 4}"
      ]
     },
     "execution_count": 17,
     "metadata": {},
     "output_type": "execute_result"
    }
   ],
   "source": [
    "# We can also pass in a different range of steps\n",
    "get_valid_key_range(original_key, 4)"
   ]
  },
  {
   "cell_type": "code",
   "execution_count": 18,
   "id": "nearby-apple",
   "metadata": {},
   "outputs": [
    {
     "data": {
      "text/plain": [
       "461"
      ]
     },
     "execution_count": 18,
     "metadata": {},
     "output_type": "execute_result"
    }
   ],
   "source": [
    "# Get candidate sample loops with key in valid range and no key loops within valid bpm\n",
    "# For example, this may include all keyed melody/bassline/vocal samples plus drum loops, FX, risers, etc.\n",
    "candidate_samples = get_candidate_sample_loops(sample_objects, original_tempo, original_key, require_key=False)\n",
    "len(candidate_samples)"
   ]
  },
  {
   "cell_type": "code",
   "execution_count": 19,
   "id": "authorized-criticism",
   "metadata": {},
   "outputs": [
    {
     "data": {
      "text/plain": [
       "51"
      ]
     },
     "execution_count": 19,
     "metadata": {},
     "output_type": "execute_result"
    }
   ],
   "source": [
    "# Get candidate sample loops with key in valid range\n",
    "# This would be better if you're looking for melodies, basslines, etc.\n",
    "candidate_samples = get_candidate_sample_loops(sample_objects, original_tempo, original_key)\n",
    "len(candidate_samples)"
   ]
  },
  {
   "cell_type": "markdown",
   "id": "imposed-buyer",
   "metadata": {},
   "source": [
    "### Generate transformations on candidate samples\n",
    "This would be the step in which the candidate sample wav files get changed to match key/tempo of song"
   ]
  },
  {
   "cell_type": "markdown",
   "id": "fatty-lebanon",
   "metadata": {},
   "source": [
    "## Adjust all candidate samples to match song\n",
    "If candidate samples have their bpm and key matched to the song, they can be evaluated in real time."
   ]
  },
  {
   "cell_type": "code",
   "execution_count": 20,
   "id": "convinced-filing",
   "metadata": {},
   "outputs": [],
   "source": [
    "from sample_transform import match_sample"
   ]
  },
  {
   "cell_type": "code",
   "execution_count": 21,
   "id": "royal-reynolds",
   "metadata": {},
   "outputs": [
    {
     "name": "stdout",
     "output_type": "stream",
     "text": [
      "Updating Tempo and Key for sample:  SPINNIN_melody_loop_intro_wubs_126_Cmaj.wav\n",
      "Transpose steps:  -1\n",
      "Stretch factor:  0.9523809523809523\n",
      "--------------------------------------\n",
      "\n",
      "Updating Tempo and Key for sample:  SOULSURPLUS_guitarchitecture_melodic_loop_4_wormy_vintage_synth_bass_rnb_120_bpm_Bbmaj.wav\n",
      "Transpose steps:  1\n",
      "Stretch factor:  1.0\n",
      "--------------------------------------\n",
      "\n",
      "Updating Tempo and Key for sample:  SPINNIN_bass_synth_loop_wobble_mayhem_126_A#maj.wav\n",
      "Transpose steps:  1\n",
      "Stretch factor:  0.9523809523809523\n",
      "--------------------------------------\n",
      "\n",
      "Updating Tempo and Key for sample:  SPINNIN_drum_fill_loop_liftoff_126_C.wav\n",
      "Transpose steps:  -1\n",
      "Stretch factor:  0.9523809523809523\n",
      "--------------------------------------\n",
      "\n",
      "Updating Tempo and Key for sample:  015_b__Drum_Beat_126bpm_-_AMPED_Zenhiser.wav\n",
      "Transpose steps:  0\n",
      "Stretch factor:  0.9523809523809523\n",
      "--------------------------------------\n",
      "\n",
      "Updating Tempo and Key for sample:  005_a__Drum_Beat_126bpm_-_AMPED_Zenhiser.wav\n",
      "Transpose steps:  2\n",
      "Stretch factor:  0.9523809523809523\n",
      "--------------------------------------\n",
      "\n",
      "Updating Tempo and Key for sample:  TA_UHT_BASS_LOOP_BUNCE_126_C.wav\n",
      "Transpose steps:  -1\n",
      "Stretch factor:  0.9523809523809523\n",
      "--------------------------------------\n",
      "\n",
      "Updating Tempo and Key for sample:  SO_WR_120_mallet_zaraya_Dbmaj.wav\n",
      "Transpose steps:  -2\n",
      "Stretch factor:  1.0\n",
      "--------------------------------------\n",
      "\n",
      "Updating Tempo and Key for sample:  TTS_RA_EFX_LOOP_RISER1_124_A.wav\n",
      "Transpose steps:  2\n",
      "Stretch factor:  0.967741935483871\n",
      "--------------------------------------\n",
      "\n",
      "Updating Tempo and Key for sample:  046_c__Drum_Beat_123bpm_-_FLECKMELTECHNO_Zenhiser.wav\n",
      "Transpose steps:  -1\n",
      "Stretch factor:  0.975609756097561\n",
      "--------------------------------------\n",
      "\n",
      "Updating Tempo and Key for sample:  FL_FUR_Kit4_Synth_Loop_Pads_126_A.wav\n",
      "Transpose steps:  2\n",
      "Stretch factor:  0.9523809523809523\n",
      "--------------------------------------\n",
      "\n",
      "Updating Tempo and Key for sample:  FL_FUR_Kit1_Synth_Loop_Arp_02_126_A.wav\n",
      "Transpose steps:  2\n",
      "Stretch factor:  0.9523809523809523\n",
      "--------------------------------------\n",
      "\n",
      "Updating Tempo and Key for sample:  FL_FUR_Kit1_Synth_Loop_Resse_Pads_126_A.wav\n",
      "Transpose steps:  2\n",
      "Stretch factor:  0.9523809523809523\n",
      "--------------------------------------\n",
      "\n",
      "Updating Tempo and Key for sample:  FL_FUR_Kit4_Vocal_Loop_Vocoder_126_A.wav\n",
      "Transpose steps:  2\n",
      "Stretch factor:  0.9523809523809523\n",
      "--------------------------------------\n",
      "\n",
      "Updating Tempo and Key for sample:  FL_FUR_Kit1_Bass_Loop_Sub_126_A.wav\n",
      "Transpose steps:  2\n",
      "Stretch factor:  0.9523809523809523\n",
      "--------------------------------------\n",
      "\n",
      "Updating Tempo and Key for sample:  FL_FUR_Kit4_Bass_Loop_Sub_Pads_126_A.wav\n",
      "Transpose steps:  2\n",
      "Stretch factor:  0.9523809523809523\n",
      "--------------------------------------\n",
      "\n",
      "Updating Tempo and Key for sample:  FL_FUR_Kit1_Fx_Loop_Braam_126_A.wav\n",
      "Transpose steps:  2\n",
      "Stretch factor:  0.9523809523809523\n",
      "--------------------------------------\n",
      "\n",
      "Updating Tempo and Key for sample:  FL_FUR_Kit4_Fx_Loop_Pads_126_A.wav\n",
      "Transpose steps:  2\n",
      "Stretch factor:  0.9523809523809523\n",
      "--------------------------------------\n",
      "\n",
      "Updating Tempo and Key for sample:  FL_FUR_Kit4_Fx_Loop_Tee_Bee_126_A.wav\n",
      "Transpose steps:  2\n",
      "Stretch factor:  0.9523809523809523\n",
      "--------------------------------------\n",
      "\n",
      "Updating Tempo and Key for sample:  T_TTS_K_126_horn_loop_raspy_A#.wav\n",
      "Transpose steps:  1\n",
      "Stretch factor:  0.9523809523809523\n",
      "--------------------------------------\n",
      "\n",
      "Updating Tempo and Key for sample:  T_TTS_K_126_bass_loop_deeper_A.wav\n",
      "Transpose steps:  2\n",
      "Stretch factor:  0.9523809523809523\n",
      "--------------------------------------\n",
      "\n",
      "Updating Tempo and Key for sample:  T_TTS_K_126_synth_loop_oldchord_C.wav\n",
      "Transpose steps:  -1\n",
      "Stretch factor:  0.9523809523809523\n",
      "--------------------------------------\n",
      "\n",
      "Updating Tempo and Key for sample:  T_TTS_K_126_synth_loop_scifi_A.wav\n",
      "Transpose steps:  2\n",
      "Stretch factor:  0.9523809523809523\n",
      "--------------------------------------\n",
      "\n",
      "Updating Tempo and Key for sample:  T_TTS_K_126_synth_loop_spinner_A.wav\n",
      "Transpose steps:  2\n",
      "Stretch factor:  0.9523809523809523\n",
      "--------------------------------------\n",
      "\n",
      "Updating Tempo and Key for sample:  022__b__Drum_Loop__Without_Kick__120bpm_-_ORGANICHOUSE_Zenhiser.wav\n",
      "Transpose steps:  0\n",
      "Stretch factor:  1.0\n",
      "--------------------------------------\n",
      "\n",
      "Updating Tempo and Key for sample:  019_Pluck_Loop_123bpm_A_-_FADEDPROGHOUSE_Zenhiser.wav\n",
      "Transpose steps:  2\n",
      "Stretch factor:  0.975609756097561\n",
      "--------------------------------------\n",
      "\n",
      "Updating Tempo and Key for sample:  TA_MK_VOX_FEMALE12_124bpm_Db.wav\n",
      "Transpose steps:  -2\n",
      "Stretch factor:  0.967741935483871\n",
      "--------------------------------------\n",
      "\n",
      "Updating Tempo and Key for sample:  TA_MK_RISER_17_126bpm_A.wav\n",
      "Transpose steps:  2\n",
      "Stretch factor:  0.9523809523809523\n",
      "--------------------------------------\n",
      "\n",
      "Updating Tempo and Key for sample:  DS_VPDH2_120_bass_loop_high_roll_drop_A#.wav\n",
      "Transpose steps:  1\n",
      "Stretch factor:  1.0\n",
      "--------------------------------------\n",
      "\n",
      "Updating Tempo and Key for sample:  ZEN_BPH_122_bass_synth_loop_aquamarine_A#.wav\n",
      "Transpose steps:  1\n",
      "Stretch factor:  0.9836065573770492\n",
      "--------------------------------------\n",
      "\n",
      "Updating Tempo and Key for sample:  T_MF_VTU_125_VOCAL_LOOP_MOVE_BOUNCE_C.wav\n",
      "Transpose steps:  -1\n",
      "Stretch factor:  0.96\n",
      "--------------------------------------\n",
      "\n",
      "Updating Tempo and Key for sample:  T_MF_VTU_125_VOCAL_LOOP_INTRO_C.wav\n",
      "Transpose steps:  -1\n",
      "Stretch factor:  0.96\n",
      "--------------------------------------\n",
      "\n",
      "Updating Tempo and Key for sample:  T_MF_VTU_123_SYNTH_LOOP_RAVE_STAB_A#.wav\n",
      "Transpose steps:  1\n",
      "Stretch factor:  0.975609756097561\n",
      "--------------------------------------\n",
      "\n",
      "Updating Tempo and Key for sample:  MBRAHC2_Bass_Loop_06_A_124.wav\n",
      "Transpose steps:  2\n",
      "Stretch factor:  0.967741935483871\n",
      "--------------------------------------\n",
      "\n",
      "Updating Tempo and Key for sample:  007_b__Drum_Beat_123bpm_-_INVOKEPROGHOUSE_Zenhiser.wav\n",
      "Transpose steps:  0\n",
      "Stretch factor:  0.975609756097561\n",
      "--------------------------------------\n",
      "\n",
      "Updating Tempo and Key for sample:  017_b__Drum_Beat__Without_Kick__123bpm_-_AROUSEDEEPMELODIC_Zenhiser.wav\n",
      "Transpose steps:  0\n",
      "Stretch factor:  0.975609756097561\n",
      "--------------------------------------\n",
      "\n",
      "Updating Tempo and Key for sample:  017_a__Synth_Loop__Loop_Seamlessly__123bpm__-_AROUSEDEEPMELODIC_Zenhiser.wav\n",
      "Transpose steps:  2\n",
      "Stretch factor:  0.975609756097561\n",
      "--------------------------------------\n",
      "\n",
      "Updating Tempo and Key for sample:  20_TA_Bass_Loop_124_A_Wet.wav\n",
      "Transpose steps:  2\n",
      "Stretch factor:  0.967741935483871\n",
      "--------------------------------------\n",
      "\n",
      "Updating Tempo and Key for sample:  08_TA_Bass_Loop_124_B_Wet.wav\n",
      "Transpose steps:  0\n",
      "Stretch factor:  0.967741935483871\n",
      "--------------------------------------\n",
      "\n",
      "Updating Tempo and Key for sample:  10_TA_Bass_Loop_124_A_Wet.wav\n",
      "Transpose steps:  2\n",
      "Stretch factor:  0.967741935483871\n",
      "--------------------------------------\n",
      "\n",
      "Updating Tempo and Key for sample:  03_TA_Bass_Loop_124_C#_Wet.wav\n",
      "Transpose steps:  -2\n",
      "Stretch factor:  0.967741935483871\n",
      "--------------------------------------\n",
      "\n",
      "Updating Tempo and Key for sample:  fh2_kit25_velvet_bass_synth_loop_120_B.wav\n",
      "Transpose steps:  0\n",
      "Stretch factor:  1.0\n",
      "--------------------------------------\n",
      "\n",
      "Updating Tempo and Key for sample:  ZEN_STH_125_synth_loop_cerise_C.wav\n",
      "Transpose steps:  -1\n",
      "Stretch factor:  0.96\n",
      "--------------------------------------\n",
      "\n",
      "Updating Tempo and Key for sample:  LSPC_Vocal_Atmosphere_10_115BPM_C.wav\n",
      "Transpose steps:  -1\n",
      "Stretch factor:  1.0434782608695652\n",
      "--------------------------------------\n",
      "\n",
      "Updating Tempo and Key for sample:  FL_PH_Kit1_Synth_Loop_Rhodes_Nirvana_120_A.wav\n",
      "Transpose steps:  2\n",
      "Stretch factor:  1.0\n",
      "--------------------------------------\n",
      "\n",
      "Updating Tempo and Key for sample:  Plain_120_C_StringTexture.wav\n",
      "Transpose steps:  -1\n",
      "Stretch factor:  1.0\n",
      "--------------------------------------\n",
      "\n",
      "Updating Tempo and Key for sample:  STINT_vocal_choir_idea_124_C#maj.wav\n",
      "Transpose steps:  -2\n",
      "Stretch factor:  0.967741935483871\n",
      "--------------------------------------\n",
      "\n",
      "Updating Tempo and Key for sample:  ff_gh_126_bass_one_shot_gotcha_Cmaj.wav\n",
      "Transpose steps:  -1\n",
      "Stretch factor:  0.9523809523809523\n",
      "--------------------------------------\n",
      "\n",
      "Updating Tempo and Key for sample:  SR_PH_124_bass_loop_tough_Bmaj.wav\n",
      "Transpose steps:  0\n"
     ]
    },
    {
     "name": "stdout",
     "output_type": "stream",
     "text": [
      "Stretch factor:  0.967741935483871\n",
      "--------------------------------------\n",
      "\n",
      "Updating Tempo and Key for sample:  SR_PH_125_bass_loop_beta_Bmaj.wav\n",
      "Transpose steps:  0\n",
      "Stretch factor:  0.96\n",
      "--------------------------------------\n",
      "\n",
      "Updating Tempo and Key for sample:  046_b__Beat_124bpm_-_PROGBREAKSBEATS_Zenhiser.wav\n",
      "Transpose steps:  0\n",
      "Stretch factor:  0.967741935483871\n",
      "--------------------------------------\n",
      "\n"
     ]
    }
   ],
   "source": [
    "song_key = key.Key('B')\n",
    "song_tempo = 120\n",
    "\n",
    "for sample in candidate_samples:    \n",
    "    matched_sample = match_sample(sample, song_key, song_tempo)\n",
    "    sf.write('test_samples/candidate_samples_matched/' + sample.name, matched_sample, sample_rate)\n",
    "    print('--------------------------------------\\n')"
   ]
  },
  {
   "cell_type": "markdown",
   "id": "burning-jesus",
   "metadata": {},
   "source": [
    "### Standardize length\n",
    "Make sure sample is looped to match the current song length"
   ]
  },
  {
   "cell_type": "code",
   "execution_count": 22,
   "id": "deadly-battlefield",
   "metadata": {},
   "outputs": [],
   "source": [
    "# Basic example\n",
    "guitar_sample, sample_rate = librosa.load(kshmr_guitar_file, sr=sample_rate, mono=mono)\n",
    "looped_sample = np.append(guitar_sample, guitar_sample) # Looped once / doubles length\n",
    "\n",
    "sf.write('test_samples/looped_sample.wav', looped_sample, sample_rate)"
   ]
  },
  {
   "cell_type": "code",
   "execution_count": 23,
   "id": "sorted-announcement",
   "metadata": {},
   "outputs": [
    {
     "data": {
      "text/plain": [
       "1411200"
      ]
     },
     "execution_count": 23,
     "metadata": {},
     "output_type": "execute_result"
    }
   ],
   "source": [
    "# Match drum loop to Splice candidate samples\n",
    "drum_loop_sample = 'test_samples/drum_loop_16_bar.wav'\n",
    "drum_sample, sample_rate = librosa.load(drum_loop_sample, sr=sample_rate, mono=mono)\n",
    "len(drum_sample)"
   ]
  },
  {
   "cell_type": "code",
   "execution_count": 24,
   "id": "indoor-tamil",
   "metadata": {},
   "outputs": [
    {
     "name": "stdout",
     "output_type": "stream",
     "text": [
      "Repeating 4 times\n",
      "--------------------------------------\n",
      "\n",
      "Repeating 2 times\n",
      "--------------------------------------\n",
      "\n",
      "Repeating 2 times\n",
      "--------------------------------------\n",
      "\n",
      "Repeating 2 times\n",
      "--------------------------------------\n",
      "\n",
      "Repeating 1 times\n",
      "--------------------------------------\n",
      "\n",
      "Repeating 1 times\n",
      "--------------------------------------\n",
      "\n",
      "Repeating 1 times\n",
      "--------------------------------------\n",
      "\n",
      "Repeating 2 times\n",
      "--------------------------------------\n",
      "\n",
      "Repeating 4 times\n",
      "--------------------------------------\n",
      "\n",
      "Repeating 4 times\n",
      "--------------------------------------\n",
      "\n",
      "Repeating 2 times\n",
      "--------------------------------------\n",
      "\n",
      "Repeating 8 times\n",
      "--------------------------------------\n",
      "\n",
      "Repeating 2 times\n",
      "--------------------------------------\n",
      "\n",
      "Repeating 4 times\n",
      "--------------------------------------\n",
      "\n",
      "Repeating 2 times\n",
      "--------------------------------------\n",
      "\n",
      "Repeating 4 times\n",
      "--------------------------------------\n",
      "\n",
      "Repeating 16 times\n",
      "--------------------------------------\n",
      "\n",
      "Repeating 2 times\n",
      "--------------------------------------\n",
      "\n",
      "Repeating 4 times\n",
      "--------------------------------------\n",
      "\n",
      "Repeating 2 times\n",
      "--------------------------------------\n",
      "\n",
      "Repeating 2 times\n",
      "--------------------------------------\n",
      "\n",
      "Repeating 2 times\n",
      "--------------------------------------\n",
      "\n",
      "Repeating 1 times\n",
      "--------------------------------------\n",
      "\n",
      "Repeating 4 times\n",
      "--------------------------------------\n",
      "\n",
      "Repeating 4 times\n",
      "--------------------------------------\n",
      "\n",
      "Repeating 4 times\n",
      "--------------------------------------\n",
      "\n",
      "Repeating 2 times\n",
      "--------------------------------------\n",
      "\n",
      "Repeating 2 times\n",
      "--------------------------------------\n",
      "\n",
      "Repeating 2 times\n",
      "--------------------------------------\n",
      "\n",
      "Repeating 4 times\n",
      "--------------------------------------\n",
      "\n",
      "Repeating 16 times\n",
      "--------------------------------------\n",
      "\n",
      "Repeating 1 times\n",
      "--------------------------------------\n",
      "\n",
      "Repeating 4 times\n",
      "--------------------------------------\n",
      "\n",
      "Repeating 8 times\n",
      "--------------------------------------\n",
      "\n",
      "Repeating 3 times\n",
      "--------------------------------------\n",
      "\n",
      "Repeating 4 times\n",
      "--------------------------------------\n",
      "\n",
      "Repeating 4 times\n",
      "--------------------------------------\n",
      "\n",
      "Repeating 4 times\n",
      "--------------------------------------\n",
      "\n",
      "Repeating 2 times\n",
      "--------------------------------------\n",
      "\n",
      "Repeating 4 times\n",
      "--------------------------------------\n",
      "\n",
      "Repeating 2 times\n",
      "--------------------------------------\n",
      "\n",
      "Repeating 2 times\n",
      "--------------------------------------\n",
      "\n",
      "Repeating 1 times\n",
      "--------------------------------------\n",
      "\n",
      "Repeating 4 times\n",
      "--------------------------------------\n",
      "\n",
      "Repeating 1 times\n",
      "--------------------------------------\n",
      "\n",
      "Repeating 2 times\n",
      "--------------------------------------\n",
      "\n",
      "Repeating 2 times\n",
      "--------------------------------------\n",
      "\n",
      "Repeating 1 times\n",
      "--------------------------------------\n",
      "\n",
      "Repeating 4 times\n",
      "--------------------------------------\n",
      "\n",
      "Repeating 8 times\n",
      "--------------------------------------\n",
      "\n",
      "Repeating 85 times\n",
      "--------------------------------------\n",
      "\n"
     ]
    }
   ],
   "source": [
    "from sample_transform import loop_sample\n",
    "\n",
    "# Note: this will overwrite the original matched candidate samples so that they have the same length as song\n",
    "for matched_sample in glob.glob('test_samples/candidate_samples_matched/' + '/**/*.wav', recursive=True):\n",
    "    matched_sample_looped = loop_sample(drum_loop_sample, matched_sample)\n",
    "    sf.write(matched_sample, matched_sample_looped, sample_rate)\n",
    "    print('--------------------------------------\\n')"
   ]
  },
  {
   "cell_type": "code",
   "execution_count": null,
   "id": "collected-mercury",
   "metadata": {},
   "outputs": [],
   "source": []
  },
  {
   "cell_type": "markdown",
   "id": "quarterly-national",
   "metadata": {},
   "source": [
    "### Standardize volume\n",
    "Make sure sample is within similar volume range"
   ]
  },
  {
   "cell_type": "code",
   "execution_count": 25,
   "id": "chinese-platform",
   "metadata": {},
   "outputs": [],
   "source": [
    "# TODO: figure out if librosa, pydub, or wave is the best library for these steps\n",
    "# move to sample_transform module when ready"
   ]
  },
  {
   "cell_type": "markdown",
   "id": "contained-theorem",
   "metadata": {},
   "source": [
    "### Combine sounds into one wav file\n",
    "Now that the sample and current song are properly matched, combine and output as one file. This will be what the user hears, what gets inputted to the model, etc."
   ]
  },
  {
   "cell_type": "code",
   "execution_count": 26,
   "id": "electoral-mistake",
   "metadata": {},
   "outputs": [],
   "source": [
    "# Basic example\n",
    "sample1, sample_rate = librosa.load(kshmr_guitar_file, sr=sample_rate, mono=mono)\n",
    "sample2, sample_rate = librosa.load(disco_strings_file, sr=sample_rate, mono=mono)\n",
    "\n",
    "combined_samples = sample1[:len(sample2)] + sample2 # These must be the same length\n",
    "sf.write('test_samples/combined_samples.wav', combined_samples, sample_rate)"
   ]
  },
  {
   "cell_type": "code",
   "execution_count": null,
   "id": "specified-publisher",
   "metadata": {},
   "outputs": [],
   "source": []
  },
  {
   "cell_type": "code",
   "execution_count": null,
   "id": "designing-paint",
   "metadata": {},
   "outputs": [],
   "source": []
  },
  {
   "cell_type": "code",
   "execution_count": null,
   "id": "legendary-gather",
   "metadata": {},
   "outputs": [],
   "source": []
  }
 ],
 "metadata": {
  "kernelspec": {
   "display_name": "Python 3",
   "language": "python",
   "name": "python3"
  },
  "language_info": {
   "codemirror_mode": {
    "name": "ipython",
    "version": 3
   },
   "file_extension": ".py",
   "mimetype": "text/x-python",
   "name": "python",
   "nbconvert_exporter": "python",
   "pygments_lexer": "ipython3",
   "version": "3.8.2"
  }
 },
 "nbformat": 4,
 "nbformat_minor": 5
}
